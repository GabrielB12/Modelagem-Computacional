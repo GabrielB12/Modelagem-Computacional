{
  "nbformat": 4,
  "nbformat_minor": 0,
  "metadata": {
    "colab": {
      "name": "Projeto5.ipynb",
      "provenance": [],
      "collapsed_sections": []
    },
    "kernelspec": {
      "name": "python3",
      "display_name": "Python 3"
    },
    "language_info": {
      "name": "python"
    }
  },
  "cells": [
    {
      "cell_type": "markdown",
      "metadata": {
        "id": "-YA4EmHq817r"
      },
      "source": [
        "Integrantes:\n",
        "*   Gabriel Bianchi e Silva - RA: 140399\n",
        "*   Miguel Silva Taciano - RA: 140756"
      ]
    },
    {
      "cell_type": "markdown",
      "metadata": {
        "id": "8-5urGfEz7zK"
      },
      "source": [
        "Este projeto tem por objetivo simular o modelo SIR, aplicado para a análise da primeira curva de propagação do novo Corona Vírus no Brasil."
      ]
    },
    {
      "cell_type": "code",
      "metadata": {
        "id": "-rtQMZc4agRQ"
      },
      "source": [
        "S = [200000000 - 1]\n",
        "I = [1]\n",
        "R = [0]\n",
        "a = 1/15 \n",
        "r = 0.85*10**-9 \n",
        "Ro = [(r*S[0]/a)]\n",
        "dS = [0]\n",
        "dI = [0]\n",
        "dR = [0]\n",
        "dT = 0.01\n",
        "T = 30000"
      ],
      "execution_count": null,
      "outputs": []
    },
    {
      "cell_type": "markdown",
      "metadata": {
        "id": "Pz8MnV2y0TQt"
      },
      "source": [
        "A população inicial do Brasil foi definida com 200 milhões de habitantes, e com apenas uma pessoa contaminada inicialmente. O parâmetro \"a\" foi de 1/15 pois são aproximadamente 15 dias que o vírus se mantém no corpo, e o parâmetro r foi definido com a potência de 10 equivalente às unidades da população, e o digito significativo foi encontrado ao tentar fazer com que a curva de novos casos fosse o mais próximo possível da real."
      ]
    },
    {
      "cell_type": "code",
      "metadata": {
        "id": "_IrTyE_FcEX6"
      },
      "source": [
        "def covid():  \n",
        "  for i in range(T):\n",
        "    sAtual = S[i]\n",
        "    iAtual = I[i]\n",
        "    rAtual = R[i]\n",
        "\n",
        "    #cálculo da variação dos parâmetros:\n",
        "    #S:\n",
        "    dSAtual = -r*sAtual*iAtual * dT\n",
        "    dS.append(abs(dSAtual))\n",
        "    S.append(sAtual + dSAtual)\n",
        "    # print(dS[i])\n",
        "\n",
        "    #I:\n",
        "    dIAtual = (r*sAtual*iAtual - a*iAtual) * dT\n",
        "    dI.append(abs(dIAtual))\n",
        "    I.append(iAtual + dIAtual)\n",
        "\n",
        "    #R:\n",
        "    dRAtual = (a*iAtual) * dT\n",
        "    dR.append(abs(dRAtual))\n",
        "    R.append(rAtual + dRAtual)\n",
        "\n",
        "    #Ro\n",
        "    Ro.append(r*sAtual/a)\n",
        "\n",
        "covid()"
      ],
      "execution_count": null,
      "outputs": []
    },
    {
      "cell_type": "code",
      "metadata": {
        "colab": {
          "base_uri": "https://localhost:8080/",
          "height": 276
        },
        "id": "E2n4mqcMizDx",
        "outputId": "c0b803f0-31ca-439f-ed5b-3e7132101563"
      },
      "source": [
        "import matplotlib.pyplot as plt\n",
        "plt.plot(range(T+1), R, c = 'b')\n",
        "plt.plot(range(T+1), I, c = 'r')\n",
        "plt.plot(range(T+1), S, c = 'g')\n",
        "plt.show()"
      ],
      "execution_count": null,
      "outputs": [
        {
          "output_type": "display_data",
          "data": {
            "image/png": "[encoded data removed]",
            "text/plain": [
              "<Figure size 432x288 with 1 Axes>"
            ]
          },
          "metadata": {
            "tags": [],
            "needs_background": "light"
          }
        }
      ]
    },
    {
      "cell_type": "code",
      "metadata": {
        "colab": {
          "base_uri": "https://localhost:8080/"
        },
        "id": "kuSYpcVg48yH",
        "outputId": "410964fe-61de-477d-fa1d-4875fa5d2524"
      },
      "source": [
        "print(round(max(I)))"
      ],
      "execution_count": null,
      "outputs": [
        {
          "output_type": "stream",
          "text": [
            "48159971\n"
          ],
          "name": "stdout"
        }
      ]
    },
    {
      "cell_type": "markdown",
      "metadata": {
        "id": "tWGIKOf12EFf"
      },
      "source": [
        "Nos gráficos embora o tempo no eixo X esteja em uma escala diferente, o comportamento é igual. No caso dessa simulação o eixo X está em uma escala de 1000 vezes o número de dias que estão dentro da primeira onda no Brasil.\n",
        "Também foi mostrado o valor máximo de infectados simultâneos nessa primeira simulação."
      ]
    },
    {
      "cell_type": "markdown",
      "metadata": {
        "id": "VmW2hJD91DxK"
      },
      "source": [
        "Como esse caso se trata de um modelo ideal, os valores acabam tendo uma magnitude muito maior do que o real, porém o \"sistema\" chegou a um equilíbrio, onde o número de recuperados e de suscetíveis se estabilizou, e o número de infectados caiu até atingir 0."
      ]
    },
    {
      "cell_type": "code",
      "metadata": {
        "colab": {
          "base_uri": "https://localhost:8080/",
          "height": 282
        },
        "id": "PNt-Hrjm1dtA",
        "outputId": "108c2f4d-b63d-45d8-e117-51f3cf6f7913"
      },
      "source": [
        "plt.plot(range(T+1), dS)"
      ],
      "execution_count": null,
      "outputs": [
        {
          "output_type": "execute_result",
          "data": {
            "text/plain": [
              "[<matplotlib.lines.Line2D at 0x7f8a63feced0>]"
            ]
          },
          "metadata": {
            "tags": []
          },
          "execution_count": 494
        },
        {
          "output_type": "display_data",
          "data": {
            "image/png": "[encoded data removed]",
            "text/plain": [
              "<Figure size 432x288 with 1 Axes>"
            ]
          },
          "metadata": {
            "tags": [],
            "needs_background": "light"
          }
        }
      ]
    },
    {
      "cell_type": "markdown",
      "metadata": {
        "id": "vGYg2ui_1kqY"
      },
      "source": [
        "Esse gráfico nos mostra o número de novos casos no tempo, atingindo aproximadamente 40 mil casos, que foi o que houve na primeira onda no Brasil. "
      ]
    },
    {
      "cell_type": "markdown",
      "metadata": {
        "id": "bGi4RQOq2w8j"
      },
      "source": [
        "Agora, analisando casos separados, primeiro temos caso a taxa de infecção aumente."
      ]
    },
    {
      "cell_type": "code",
      "metadata": {
        "id": "gv8xMFw-3AQ_"
      },
      "source": [
        "S = [200000000 - 1]\n",
        "I = [1]\n",
        "R = [0]\n",
        "a = 1/15 \n",
        "r = 1.85*10**-9 \n",
        "Ro = [(r*S[0]/a)]\n",
        "dS = [0]\n",
        "dI = [0]\n",
        "dR = [0]\n",
        "dT = 0.01\n",
        "T = 30000"
      ],
      "execution_count": null,
      "outputs": []
    },
    {
      "cell_type": "code",
      "metadata": {
        "id": "0gX85_lH3GSv"
      },
      "source": [
        "covid()"
      ],
      "execution_count": null,
      "outputs": []
    },
    {
      "cell_type": "code",
      "metadata": {
        "colab": {
          "base_uri": "https://localhost:8080/",
          "height": 276
        },
        "id": "iAEDP8o-3KJ7",
        "outputId": "4d348af6-1037-4a24-82ab-55180354bc2b"
      },
      "source": [
        "import matplotlib.pyplot as plt\n",
        "plt.plot(range(T+1), R, c = 'b')\n",
        "plt.plot(range(T+1), I, c = 'r')\n",
        "plt.plot(range(T+1), S, c = 'g')\n",
        "plt.show()"
      ],
      "execution_count": null,
      "outputs": [
        {
          "output_type": "display_data",
          "data": {
            "image/png": "[encoded data removed]",
            "text/plain": [
              "<Figure size 432x288 with 1 Axes>"
            ]
          },
          "metadata": {
            "tags": [],
            "needs_background": "light"
          }
        }
      ]
    },
    {
      "cell_type": "code",
      "metadata": {
        "colab": {
          "base_uri": "https://localhost:8080/"
        },
        "id": "00wsekEU5wty",
        "outputId": "889a0315-4dc9-4f1f-c2c3-ceec6f8167c6"
      },
      "source": [
        "print(round(max(I)))"
      ],
      "execution_count": null,
      "outputs": [
        {
          "output_type": "stream",
          "text": [
            "102247457\n"
          ],
          "name": "stdout"
        }
      ]
    },
    {
      "cell_type": "markdown",
      "metadata": {
        "id": "xXvC880k3Qz0"
      },
      "source": [
        "Nesse caso, aumentando de 0.85 para 1.85 na variável \"r\", houve a infecção de toda a população, tendo simultaneamente metade da população infectada, e de uma maneira muito mais rápida do que na primeira simulação."
      ]
    },
    {
      "cell_type": "markdown",
      "metadata": {
        "id": "BQ8Hk5lb3me1"
      },
      "source": [
        "Outro caso é quando se aplicam possíveis tratamentos, fazendo com que o período até que se cure diminua de 15 para 9 dias"
      ]
    },
    {
      "cell_type": "code",
      "metadata": {
        "id": "oAi6GWsT3jP3"
      },
      "source": [
        "S = [200000000 - 1]\n",
        "I = [1]\n",
        "R = [0]\n",
        "a = 1/9\n",
        "r = 0.85*10**-9 \n",
        "Ro = [(r*S[0]/a)]\n",
        "dS = [0]\n",
        "dI = [0]\n",
        "dR = [0]\n",
        "dT = 0.01\n",
        "T = 45000"
      ],
      "execution_count": null,
      "outputs": []
    },
    {
      "cell_type": "code",
      "metadata": {
        "id": "gG6KMIRh3z1H"
      },
      "source": [
        "covid()"
      ],
      "execution_count": null,
      "outputs": []
    },
    {
      "cell_type": "code",
      "metadata": {
        "colab": {
          "base_uri": "https://localhost:8080/",
          "height": 276
        },
        "id": "OS1zg7H431EE",
        "outputId": "53f9ffcb-e8c9-49b6-9f0e-b5fd20156fa9"
      },
      "source": [
        "import matplotlib.pyplot as plt\n",
        "plt.plot(range(T+1), R, c = 'b')\n",
        "plt.plot(range(T+1), I, c = 'r')\n",
        "plt.plot(range(T+1), S, c = 'g')\n",
        "plt.show()"
      ],
      "execution_count": null,
      "outputs": [
        {
          "output_type": "display_data",
          "data": {
            "image/png": "[encoded data removed]",
            "text/plain": [
              "<Figure size 432x288 with 1 Axes>"
            ]
          },
          "metadata": {
            "tags": [],
            "needs_background": "light"
          }
        }
      ]
    },
    {
      "cell_type": "code",
      "metadata": {
        "colab": {
          "base_uri": "https://localhost:8080/"
        },
        "id": "42fv6ybn5TUH",
        "outputId": "b92b9884-f58c-431e-8853-7afa6dff164f"
      },
      "source": [
        "print(round(max(I)))"
      ],
      "execution_count": null,
      "outputs": [
        {
          "output_type": "stream",
          "text": [
            "13692688\n"
          ],
          "name": "stdout"
        }
      ]
    },
    {
      "cell_type": "markdown",
      "metadata": {
        "id": "41XXFbID4d3B"
      },
      "source": [
        "Como visto no gráfico acima, a doença tem muito mais dificuldade de se proliferar e atinge um pico bem menor, uma vez que os indivíduos se curam mais rapidamente."
      ]
    },
    {
      "cell_type": "markdown",
      "metadata": {
        "id": "WfZTWgd26NDA"
      },
      "source": [
        "Para esse último caso foi possível observar o achatamento da curva, que ocorreu com o tempo no Brasil, uma vez que em situações reais houveram diversos fatores externos que influenciam no gráfico, como o \"lockdown\" que nesse caso diminuiria a taxa de contaminação, uma vez que existe menos contato entre as pessoas, ou ainda, no período atual, a presença de vacinas."
      ]
    }
  ]
}