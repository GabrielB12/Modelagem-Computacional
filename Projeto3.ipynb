{
  "nbformat": 4,
  "nbformat_minor": 0,
  "metadata": {
    "colab": {
      "name": "Projeto3.ipynb",
      "provenance": []
    },
    "kernelspec": {
      "name": "python3",
      "display_name": "Python 3"
    },
    "language_info": {
      "name": "python"
    }
  },
  "cells": [
    {
      "cell_type": "markdown",
      "metadata": {
        "id": "wqGri7ZQoNUM"
      },
      "source": [
        "Integrantes:\n",
        "*   Gabriel Bianchi e Silva - RA: 140399\n",
        "*   Miguel Silva Taciano - RA: 140756"
      ]
    },
    {
      "cell_type": "markdown",
      "metadata": {
        "id": "pzRlY0KUoOQp"
      },
      "source": [
        "Neste projeto será desenvolvida uma rede trófica composta de 6 espécies, com o objetivo de fazer essa rede sobreviver o máximo de tempo possível. O projeto se baseia em uma rede trófica inventada especialmente para essa simulação, que tem por base um mundo pós apocaliptico, assim, tem-se, além da espécie lobo e humano como carnívoros, também existem zumbis e canibais. Além desses 4, existem também o veado, como herbívoro, e a grama, que serve de base da \"cadeia\"."
      ]
    },
    {
      "cell_type": "markdown",
      "metadata": {
        "id": "4JM9X3LwrAVQ"
      },
      "source": [
        "Para que a rede se mantenha serão utilizados parâmetros encontrados após diversos testes, mas que serão melhor explicados posteriormente."
      ]
    },
    {
      "cell_type": "markdown",
      "metadata": {
        "id": "Yj5Xb4fBpcUC"
      },
      "source": [
        "Bibliotecas:"
      ]
    },
    {
      "cell_type": "code",
      "metadata": {
        "id": "vdN8tkw1mGal"
      },
      "source": [
        "import matplotlib.pyplot as plt"
      ],
      "execution_count": null,
      "outputs": []
    },
    {
      "cell_type": "markdown",
      "metadata": {
        "id": "JeJXCptWplB7"
      },
      "source": [
        "Parâmetros da simulação:"
      ]
    },
    {
      "cell_type": "code",
      "metadata": {
        "id": "t_Zl3SwtmDRQ"
      },
      "source": [
        "k = 3000\n",
        "p = [0] * 25\n",
        "dT = 0.01\n",
        "\n",
        "p[1] = 0.07\n",
        "p[2] = 0.0001\n",
        "p[3] = 0.07\n",
        "p[4] = 0.0001\n",
        "p[5] = 0.00007\n",
        "p[6] = 0.00007\n",
        "p[7] = 0.01\n",
        "p[8] = 0.00005\n",
        "p[9] = 0.00006\n",
        "p[10] = 0.0004\n",
        "p[11] = 0.2\n",
        "p[12] = 0.0002\n",
        "p[13] = 0.0003\n",
        "p[14] = 0.0002\n",
        "p[15] = 0.00001\n",
        "p[16] = 0.0001\n",
        "p[17] = 0.00001\n",
        "p[18] = 0.00001\n",
        "p[19] = 0.00001\n",
        "p[20] = 0.00001\n",
        "p[21] = 0.2\n",
        "p[22] = 0.009\n",
        "p[23] = 0.00001\n",
        "p[24] = 0.000001"
      ],
      "execution_count": null,
      "outputs": []
    },
    {
      "cell_type": "markdown",
      "metadata": {
        "id": "S6-Lq6pftJDI"
      },
      "source": [
        "Os parâmetros foram encontrados pela análise parcial dos gráficos, onde foi introduzida uma espécie de cada vez, e utilizado muita tentativa e erro. "
      ]
    },
    {
      "cell_type": "markdown",
      "metadata": {
        "id": "4BuMW4-amIyx"
      },
      "source": [
        "Classes:"
      ]
    },
    {
      "cell_type": "code",
      "metadata": {
        "id": "fDYAwbDVmLBV"
      },
      "source": [
        "class Grama:\n",
        "    def __init__(self):\n",
        "        self.G = 500\n",
        "        self.Glista = [self.G]\n",
        "\n",
        "    def deltaG(self, V, seca):\n",
        "        if seca:\n",
        "            novoK = 500\n",
        "            dG = self.G * (p[1] - ((p[1] * self.G) / novoK) - (p[2] * V))\n",
        "        else:\n",
        "            dG = self.G * (p[1] - ((p[1] * self.G) / k) - (p[2] * V))\n",
        "\n",
        "        self.G = self.G + dG * dT\n",
        "        self.Glista.append(self.G)\n",
        "\n",
        "\n",
        "class Veado:\n",
        "    def __init__(self):\n",
        "        self.V = 100\n",
        "        self.Vlista = [self.V]\n",
        "\n",
        "    def deltaV(self, G, L, H):\n",
        "        dV = self.V * (-p[3] + (p[4] * G) - (p[5] * H) - (p[6] * L))\n",
        "\n",
        "        self.V = self.V + dV * dT\n",
        "        self.Vlista.append(self.V)\n",
        "\n",
        "\n",
        "class Lobo:\n",
        "    def __init__(self):\n",
        "        self.L = 100\n",
        "        self.Llista = [self.L]\n",
        "\n",
        "    def deltaL(self, V, H, Z, mutacao):\n",
        "        if mutacao:\n",
        "            pZumbi = 0.0003\n",
        "            dL = self.L * (-p[7] + (p[8] * V) + H * (p[9] - p[10]) - pZumbi * Z)\n",
        "        else:\n",
        "            dL = self.L * (-p[7] + (p[8] * V) + H * (p[9] - p[10]))\n",
        "\n",
        "        self.L = self.L + dL * dT\n",
        "        self.Llista.append(self.L)\n",
        "\n",
        "\n",
        "class Humano:\n",
        "    def __init__(self):\n",
        "        self.H = 50\n",
        "        self.Hlista = [self.H]\n",
        "\n",
        "    def deltaH(self, V, L, Z, C):\n",
        "        dH = self.H * (\n",
        "            -p[11] + (p[12] * V) + L * (p[13] - p[16]) - (p[15] * Z) - p[14] * C\n",
        "        )\n",
        "\n",
        "        self.H = self.H + dH * dT\n",
        "        self.Hlista.append(self.H)\n",
        "\n",
        "\n",
        "class Zumbi:\n",
        "    def __init__(self):\n",
        "        self.Z = 300\n",
        "        self.Zlista = [self.Z]\n",
        "\n",
        "    def deltaZ(self, H, C, L, feroz, mutacao):\n",
        "        if feroz:\n",
        "            p[17] = 0.00005\n",
        "            p[18] = 0.00005\n",
        "            p[19] = 0.000015\n",
        "            p[20] = 0.000015\n",
        "\n",
        "        if mutacao:\n",
        "            pLobo = 0.0002\n",
        "            pZumbi = 0.0001\n",
        "            dZ = self.Z * (\n",
        "                -pZumbi + H * (p[17] - p[19]) + C * (p[18] - p[20]) + pLobo * L\n",
        "            )\n",
        "        else:\n",
        "            dZ = self.Z * (H * (p[17] - p[19]) + C * (p[18] - p[20]))\n",
        "\n",
        "        self.Z = self.Z + dZ * dT\n",
        "        self.Zlista.append(self.Z)\n",
        "\n",
        "\n",
        "class Canibal:\n",
        "    def __init__(self):\n",
        "        self.C = 80\n",
        "        self.Clista = [self.C]\n",
        "\n",
        "    def deltaC(self, H, Z):\n",
        "        dC = self.C * (-p[21] + H * (p[22] - p[23]) - p[24] * Z)\n",
        "\n",
        "        self.C = self.C + dC * dT\n",
        "        self.Clista.append(self.C)"
      ],
      "execution_count": null,
      "outputs": []
    },
    {
      "cell_type": "markdown",
      "metadata": {
        "id": "olryEYwwmcP-"
      },
      "source": [
        "Principal:"
      ]
    },
    {
      "cell_type": "code",
      "metadata": {
        "colab": {
          "base_uri": "https://localhost:8080/",
          "height": 278
        },
        "id": "LM3espRCmSl3",
        "outputId": "f83af7af-0294-4887-b30b-50b3a2a6fb2e"
      },
      "source": [
        "grama = Grama()\n",
        "veado = Veado()\n",
        "lobo = Lobo()\n",
        "humano = Humano()\n",
        "zumbi = Zumbi()\n",
        "canibal = Canibal()\n",
        "\n",
        "tempo = 1000000\n",
        "\n",
        "for i in range(tempo):\n",
        "    V = veado.V\n",
        "    G = grama.G\n",
        "    L = lobo.L\n",
        "    H = humano.H\n",
        "    Z = zumbi.Z\n",
        "    C = canibal.C\n",
        "    \n",
        "    grama.deltaG(V, False)\n",
        "    veado.deltaV(G, L, H)\n",
        "    lobo.deltaL(V, H, Z, False)\n",
        "    humano.deltaH(H, L, Z, C)\n",
        "    zumbi.deltaZ(H, C, L, False, False)\n",
        "    canibal.deltaC(H, Z)\n",
        "\n",
        "\n",
        "plt.plot(range(tempo + 1), grama.Glista, c=\"g\")\n",
        "plt.plot(range(tempo + 1), veado.Vlista, c=\"r\")\n",
        "plt.plot(range(tempo + 1), lobo.Llista, c=\"black\")\n",
        "plt.plot(range(tempo + 1), humano.Hlista, c=\"y\")\n",
        "plt.plot(range(tempo + 1), zumbi.Zlista, c=\"blue\")\n",
        "plt.plot(range(tempo + 1), canibal.Clista, c=\"magenta\")\n",
        "plt.show()"
      ],
      "execution_count": null,
      "outputs": [
        {
          "output_type": "display_data",
          "data": {
            "image/png": "[encoded data removed]",
            "text/plain": [
              "<Figure size 432x288 with 1 Axes>"
            ]
          },
          "metadata": {
            "tags": [],
            "needs_background": "light"
          }
        }
      ]
    },
    {
      "cell_type": "markdown",
      "metadata": {
        "id": "68kNrtW_s9D-"
      },
      "source": [
        "Para a análise das perturbações foi excluido o período transiente, considerando apenas após a estabilidade da rede trófica."
      ]
    },
    {
      "cell_type": "markdown",
      "metadata": {
        "id": "-FMWfV69lxc7"
      },
      "source": [
        "Perturbação 1 - Seca"
      ]
    },
    {
      "cell_type": "markdown",
      "metadata": {
        "id": "FnCqh_8Qsnd1"
      },
      "source": [
        "Nessa perturbação houve uma época de seca, diminuindo a abundãncia de grama, e, para isso o valor de K foi diminuido."
      ]
    },
    {
      "cell_type": "code",
      "metadata": {
        "colab": {
          "base_uri": "https://localhost:8080/",
          "height": 278
        },
        "id": "QZHqSyenlWvj",
        "outputId": "14f7b4c4-742f-4d33-fffa-1ec20890cc5e"
      },
      "source": [
        "grama2 = Grama()\n",
        "veado2 = Veado()\n",
        "lobo2 = Lobo()\n",
        "humano2 = Humano()\n",
        "zumbi2 = Zumbi()\n",
        "canibal2 = Canibal()\n",
        "\n",
        "for i in range(tempo):\n",
        "    if(i > 400000): # Seca\n",
        "        V = veado2.V\n",
        "        G = grama2.G\n",
        "        L = lobo2.L\n",
        "        H = humano2.H\n",
        "        Z = zumbi2.Z\n",
        "        C = canibal2.C\n",
        "        \n",
        "        grama2.deltaG(V, True)\n",
        "        veado2.deltaV(G, L, H)\n",
        "        lobo2.deltaL(V, H, Z, False)\n",
        "        humano2.deltaH(H, L, Z, C)\n",
        "        zumbi2.deltaZ(H, C, L, False, False)\n",
        "        canibal2.deltaC(H, Z)\n",
        "    else:\n",
        "        V = veado2.V\n",
        "        G = grama2.G\n",
        "        L = lobo2.L\n",
        "        H = humano2.H\n",
        "        Z = zumbi2.Z\n",
        "        C = canibal2.C\n",
        "        \n",
        "        grama2.deltaG(V, False)\n",
        "        veado2.deltaV(G, L, H)\n",
        "        lobo2.deltaL(V, H, Z, False)\n",
        "        humano2.deltaH(H, L, Z, C)\n",
        "        zumbi2.deltaZ(H, C, L, False, False)\n",
        "        canibal2.deltaC(H, Z)\n",
        "\n",
        "\n",
        "plt.plot(range(tempo + 1), grama2.Glista, c=\"g\")\n",
        "plt.plot(range(tempo + 1), veado2.Vlista, c=\"r\")\n",
        "plt.plot(range(tempo + 1), lobo2.Llista, c=\"black\")\n",
        "plt.plot(range(tempo + 1), humano2.Hlista, c=\"y\")\n",
        "plt.plot(range(tempo + 1), zumbi2.Zlista, c=\"blue\")\n",
        "plt.plot(range(tempo + 1), canibal2.Clista, c=\"magenta\")\n",
        "plt.show()"
      ],
      "execution_count": null,
      "outputs": [
        {
          "output_type": "display_data",
          "data": {
            "image/png": "[encoded data removed]",
            "text/plain": [
              "<Figure size 432x288 with 1 Axes>"
            ]
          },
          "metadata": {
            "tags": [],
            "needs_background": "light"
          }
        }
      ]
    },
    {
      "cell_type": "markdown",
      "metadata": {
        "id": "a7lzeWVxlm6p"
      },
      "source": [
        "Perturbação 2 - Zumbi Feroz"
      ]
    },
    {
      "cell_type": "markdown",
      "metadata": {
        "id": "58yEd-9TsQPL"
      },
      "source": [
        "Nessa perturbação o Zumbi melhora a ingestão de \"nutrientes\" humanos, se beneficiando mais ao predar humanos(incluindo os canibais)."
      ]
    },
    {
      "cell_type": "code",
      "metadata": {
        "colab": {
          "base_uri": "https://localhost:8080/",
          "height": 278
        },
        "id": "Xq7-tcC9lb-v",
        "outputId": "6fd97d56-3859-45f0-f11a-dc4a4126bf05"
      },
      "source": [
        "grama3 = Grama()\n",
        "veado3 = Veado()\n",
        "lobo3 = Lobo()\n",
        "humano3 = Humano()\n",
        "zumbi3 = Zumbi()\n",
        "canibal3 = Canibal()\n",
        "\n",
        "for i in range(tempo):\n",
        "    if(i > 400000): # Feroz\n",
        "        V = veado3.V\n",
        "        G = grama3.G\n",
        "        L = lobo3.L\n",
        "        H = humano3.H\n",
        "        Z = zumbi3.Z\n",
        "        C = canibal3.C\n",
        "        \n",
        "        grama3.deltaG(V, False)\n",
        "        veado3.deltaV(G, L, H)\n",
        "        lobo3.deltaL(V, H, Z, False)\n",
        "        humano3.deltaH(H, L, Z, C)\n",
        "        zumbi3.deltaZ(H, C, L, True, False)\n",
        "        canibal3.deltaC(H, Z)\n",
        "    else:\n",
        "        V = veado3.V\n",
        "        G = grama3.G\n",
        "        L = lobo3.L\n",
        "        H = humano3.H\n",
        "        Z = zumbi3.Z\n",
        "        C = canibal3.C\n",
        "        \n",
        "        grama3.deltaG(V, False)\n",
        "        veado3.deltaV(G, L, H)\n",
        "        lobo3.deltaL(V, H, Z, False)\n",
        "        humano3.deltaH(H, L, Z, C)\n",
        "        zumbi3.deltaZ(H, C, L, False, False)\n",
        "        canibal3.deltaC(H, Z)\n",
        "\n",
        "\n",
        "plt.plot(range(tempo + 1), grama3.Glista, c=\"g\")\n",
        "plt.plot(range(tempo + 1), veado3.Vlista, c=\"r\")\n",
        "plt.plot(range(tempo + 1), lobo3.Llista, c=\"black\")\n",
        "plt.plot(range(tempo + 1), humano3.Hlista, c=\"y\")\n",
        "plt.plot(range(tempo + 1), zumbi3.Zlista, c=\"blue\")\n",
        "plt.plot(range(tempo + 1), canibal3.Clista, c=\"magenta\")\n",
        "plt.show()"
      ],
      "execution_count": null,
      "outputs": [
        {
          "output_type": "display_data",
          "data": {
            "image/png": "[encoded data removed]",
            "text/plain": [
              "<Figure size 432x288 with 1 Axes>"
            ]
          },
          "metadata": {
            "tags": [],
            "needs_background": "light"
          }
        }
      ]
    },
    {
      "cell_type": "markdown",
      "metadata": {
        "id": "A8zDe_2Plit4"
      },
      "source": [
        "Perturbação 3 - Mutação do Zumbi"
      ]
    },
    {
      "cell_type": "markdown",
      "metadata": {
        "id": "9ppI74fxsxZ9"
      },
      "source": [
        "Nessa última perturbação houve uma mutação na espécie Zumbi, onde ela passou a conseguir predar os lobos."
      ]
    },
    {
      "cell_type": "code",
      "metadata": {
        "colab": {
          "base_uri": "https://localhost:8080/",
          "height": 281
        },
        "id": "x1Q1qoEYlhdU",
        "outputId": "233d88e5-050c-49a8-9c25-cf7ec6155506"
      },
      "source": [
        "grama4 = Grama()\n",
        "veado4 = Veado()\n",
        "lobo4 = Lobo()\n",
        "humano4 = Humano()\n",
        "zumbi4 = Zumbi()\n",
        "canibal4 = Canibal()\n",
        "\n",
        "for i in range(tempo):\n",
        "    if(i > 400000): # Mutação\n",
        "        V = veado4.V\n",
        "        G = grama4.G\n",
        "        L = lobo4.L\n",
        "        H = humano4.H\n",
        "        Z = zumbi4.Z\n",
        "        C = canibal4.C\n",
        "        \n",
        "        grama4.deltaG(V, False)\n",
        "        veado4.deltaV(G, L, H)\n",
        "        lobo4.deltaL(V, H, Z, True)\n",
        "        humano4.deltaH(H, L, Z, C)\n",
        "        zumbi4.deltaZ(H, C, L, False, True)\n",
        "        canibal4.deltaC(H, Z)\n",
        "    else:\n",
        "        V = veado4.V\n",
        "        G = grama4.G\n",
        "        L = lobo4.L\n",
        "        H = humano4.H\n",
        "        Z = zumbi4.Z\n",
        "        C = canibal4.C\n",
        "        \n",
        "        grama4.deltaG(V, False)\n",
        "        veado4.deltaV(G, L, H)\n",
        "        lobo4.deltaL(V, H, Z, False)\n",
        "        humano4.deltaH(H, L, Z, C)\n",
        "        zumbi4.deltaZ(H, C, L, False, False)\n",
        "        canibal4.deltaC(H, Z)\n",
        "\n",
        "\n",
        "plt.plot(range(tempo + 1), grama2.Glista, c=\"g\")\n",
        "plt.plot(range(tempo + 1), veado4.Vlista, c=\"r\")\n",
        "plt.plot(range(tempo + 1), lobo4.Llista, c=\"black\")\n",
        "plt.plot(range(tempo + 1), humano4.Hlista, c=\"y\")\n",
        "plt.plot(range(tempo + 1), zumbi4.Zlista, c=\"blue\")\n",
        "plt.plot(range(tempo + 1), canibal4.Clista, c=\"magenta\")\n",
        "plt.show()"
      ],
      "execution_count": null,
      "outputs": [
        {
          "output_type": "display_data",
          "data": {
            "image/png": "[encoded data removed]",
            "text/plain": [
              "<Figure size 432x288 with 1 Axes>"
            ]
          },
          "metadata": {
            "tags": [],
            "needs_background": "light"
          }
        }
      ]
    }
  ]
}